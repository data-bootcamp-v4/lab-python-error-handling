{
 "cells": [
  {
   "cell_type": "markdown",
   "id": "25d7736c-ba17-4aff-b6bb-66eba20fbf4e",
   "metadata": {},
   "source": [
    "# Lab | Error Handling"
   ]
  },
  {
   "cell_type": "markdown",
   "id": "bc99b386-7508-47a0-bcdb-d969deaf6c8b",
   "metadata": {},
   "source": [
    "## Exercise: Error Handling for Managing Customer Orders\n",
    "\n",
    "The implementation of your code for managing customer orders assumes that the user will always enter a valid input. \n",
    "\n",
    "For example, we could modify the `initialize_inventory` function to include error handling.\n",
    "   - If the user enters an invalid quantity (e.g., a negative value or a non-numeric value), display an error message and ask them to re-enter the quantity for that product.\n",
    "   - Use a try-except block to handle the error and continue prompting the user until a valid quantity is entered.\n",
    "\n",
    "```python\n",
    "# Step 1: Define the function for initializing the inventory with error handling\n",
    "def initialize_inventory(products):\n",
    "    inventory = {}\n",
    "    for product in products:\n",
    "        valid_quantity = False\n",
    "        while not valid_quantity:\n",
    "            try:\n",
    "                quantity = int(input(f\"Enter the quantity of {product}s available: \"))\n",
    "                if quantity < 0:\n",
    "                    raise ValueError(\"Invalid quantity! Please enter a non-negative value.\")\n",
    "                valid_quantity = True\n",
    "            except ValueError as error:\n",
    "                print(f\"Error: {error}\")\n",
    "        inventory[product] = quantity\n",
    "    return inventory\n",
    "\n",
    "# Or, in another way:\n",
    "\n",
    "def initialize_inventory(products):\n",
    "    inventory = {}\n",
    "    for product in products:\n",
    "        valid_input = False\n",
    "        while not valid_input:\n",
    "            try:\n",
    "                quantity = int(input(f\"Enter the quantity of {product}s available: \"))\n",
    "                if quantity >= 0:\n",
    "                    inventory[product] = quantity\n",
    "                    valid_input = True\n",
    "                else:\n",
    "                    print(\"Quantity cannot be negative. Please enter a valid quantity.\")\n",
    "            except ValueError:\n",
    "                print(\"Invalid input. Please enter a valid quantity.\")\n",
    "    return inventory\n",
    "```\n",
    "\n",
    "Let's enhance your code by implementing error handling to handle invalid inputs.\n",
    "\n",
    "Follow the steps below to complete the exercise:\n",
    "\n",
    "2. Modify the `calculate_total_price` function to include error handling.\n",
    "   - If the user enters an invalid price (e.g., a negative value or a non-numeric value), display an error message and ask them to re-enter the price for that product.\n",
    "   - Use a try-except block to handle the error and continue prompting the user until a valid price is entered.\n",
    "\n",
    "3. Modify the `get_customer_orders` function to include error handling.\n",
    "   - If the user enters an invalid number of orders (e.g., a negative value or a non-numeric value), display an error message and ask them to re-enter the number of orders.\n",
    "   - If the user enters an invalid product name (e.g., a product name that is not in the inventory), or that doesn't have stock available, display an error message and ask them to re-enter the product name. *Hint: you will need to pass inventory as a parameter*\n",
    "   - Use a try-except block to handle the error and continue prompting the user until a valid product name is entered.\n",
    "\n",
    "4. Test your code by running the program and deliberately entering invalid quantities and product names. Make sure the error handling mechanism works as expected.\n"
   ]
  },
  {
   "cell_type": "code",
   "execution_count": 2,
   "id": "ef419100",
   "metadata": {},
   "outputs": [],
   "source": [
    "products = ['t-shirt', 'mug', 'hat', \"book\", \"keychain\"]\n",
    "inventory = {}\n",
    "customer_orders = set()\n",
    "def initialize_inventory(products):\n",
    "    for Value in products:\n",
    "        correct_input = False\n",
    "        while not correct_input:\n",
    "            try:\n",
    "                value = input(f\"Value for {Value}:\")\n",
    "                if value.isdigit() == True:\n",
    "                    inventory[Value] = int(value)\n",
    "                    correct_input = True\n",
    "                else: \n",
    "                    print(\"Must be a positive number\")\n",
    "                    continue\n",
    "            except:\n",
    "                        print (\"Invalid Input\")\n",
    "    return inventory"
   ]
  },
  {
   "cell_type": "code",
   "execution_count": 160,
   "id": "c0750811",
   "metadata": {},
   "outputs": [],
   "source": [
    "def calculate_total_price():\n",
    "    prices = {}\n",
    "    for product in customer_orders:\n",
    "        positive = False\n",
    "        while not positive:\n",
    "            try:\n",
    "                item = int(input(f\"Put the price for {product}\")) \n",
    "                if item <0:\n",
    "                        raise ValueError(\"Price can't be negative\")\n",
    "                else:\n",
    "                    prices[product] = item\n",
    "                    positive = True\n",
    "            except ValueError as error:\n",
    "                print(f\"{error}\")\n",
    "    total = (sum(prices.values()))\n",
    "    return (f\"total price is {total}\")"
   ]
  },
  {
   "cell_type": "code",
   "execution_count": 157,
   "id": "92bf8e56",
   "metadata": {},
   "outputs": [],
   "source": [
    "customer_orders = set()\n",
    "def get_customer_order(inventory):\n",
    "    check= False\n",
    "    clear = [clear for clear in list(inventory) if inventory[clear] == 0 ]\n",
    "    for spell in inventory:\n",
    "        while not check:\n",
    "            items = input(\"Enter the number of customer orders:\")\n",
    "            try:\n",
    "                while items.isdigit() != True:\n",
    "                    raise ValueError(\"Must be a number\")\n",
    "                else:\n",
    "                    inte = int(items)\n",
    "                    check = True\n",
    "                    while inte > len(customer_orders):\n",
    "                        orders = input(\"Enter the name of the product that a costumer wants to order:\")\n",
    "                        try:\n",
    "                            for i in list(inventory):\n",
    "                                if orders in clear :\n",
    "                                    raise ValueError(\"Insufficient stock\")\n",
    "                                if orders not in inventory:\n",
    "                                    raise ValueError(\"Item not found on inventory\")\n",
    "                                else:\n",
    "                                    customer_orders.add(orders)\n",
    "                        except ValueError as error:\n",
    "                            print(error)\n",
    "                        print(\"Item added with success\")\n",
    "            except ValueError as error:\n",
    "                print (error, \"Please enter valid integer value.\")\n",
    "    \n",
    "    return customer_orders"
   ]
  },
  {
   "cell_type": "code",
   "execution_count": 163,
   "id": "532e458c",
   "metadata": {},
   "outputs": [
    {
     "name": "stdout",
     "output_type": "stream",
     "text": [
      "Must be a positive number\n",
      "Must be a positive number\n",
      "Must be a positive number\n",
      "Must be a positive number\n"
     ]
    },
    {
     "data": {
      "text/plain": [
       "{'t-shirt': 12, 'mug': 21, 'hat': 2, 'book': 2, 'keychain': 2}"
      ]
     },
     "execution_count": 163,
     "metadata": {},
     "output_type": "execute_result"
    }
   ],
   "source": [
    "initialize_inventory(products)"
   ]
  },
  {
   "cell_type": "code",
   "execution_count": 158,
   "id": "2354aa68",
   "metadata": {},
   "outputs": [
    {
     "name": "stdout",
     "output_type": "stream",
     "text": [
      "Item added with success\n",
      "Insufficient stock\n",
      "Item added with success\n",
      "Item added with success\n"
     ]
    },
    {
     "data": {
      "text/plain": [
       "{'hat', 'mug'}"
      ]
     },
     "execution_count": 158,
     "metadata": {},
     "output_type": "execute_result"
    }
   ],
   "source": [
    "get_customer_order(inventory)"
   ]
  },
  {
   "cell_type": "code",
   "execution_count": 162,
   "id": "d55d4931",
   "metadata": {},
   "outputs": [
    {
     "name": "stdout",
     "output_type": "stream",
     "text": [
      "invalid literal for int() with base 10: 'ke'\n",
      "invalid literal for int() with base 10: 'cms'\n",
      "Only positive numbers\n"
     ]
    },
    {
     "data": {
      "text/plain": [
       "'total price is 44'"
      ]
     },
     "execution_count": 162,
     "metadata": {},
     "output_type": "execute_result"
    }
   ],
   "source": [
    "calculate_total_price()"
   ]
  },
  {
   "cell_type": "code",
   "execution_count": null,
   "id": "467c5e70",
   "metadata": {},
   "outputs": [],
   "source": []
  }
 ],
 "metadata": {
  "kernelspec": {
   "display_name": "Python 3 (ipykernel)",
   "language": "python",
   "name": "python3"
  },
  "language_info": {
   "codemirror_mode": {
    "name": "ipython",
    "version": 3
   },
   "file_extension": ".py",
   "mimetype": "text/x-python",
   "name": "python",
   "nbconvert_exporter": "python",
   "pygments_lexer": "ipython3",
   "version": "3.10.9"
  }
 },
 "nbformat": 4,
 "nbformat_minor": 5
}
