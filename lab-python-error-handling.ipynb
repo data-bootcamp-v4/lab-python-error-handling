{
 "cells": [
  {
   "cell_type": "markdown",
   "id": "25d7736c-ba17-4aff-b6bb-66eba20fbf4e",
   "metadata": {},
   "source": [
    "# Lab | Error Handling"
   ]
  },
  {
   "cell_type": "markdown",
   "id": "bc99b386-7508-47a0-bcdb-d969deaf6c8b",
   "metadata": {},
   "source": [
    "## Exercise: Error Handling for Managing Customer Orders\n",
    "\n",
    "The implementation of your code for managing customer orders assumes that the user will always enter a valid input. \n",
    "\n",
    "For example, we could modify the `initialize_inventory` function to include error handling.\n",
    "   - If the user enters an invalid quantity (e.g., a negative value or a non-numeric value), display an error message and ask them to re-enter the quantity for that product.\n",
    "   - Use a try-except block to handle the error and continue prompting the user until a valid quantity is entered.\n",
    "\n",
    "```python\n",
    "# Step 1: Define the function for initializing the inventory with error handling\n",
    "def initialize_inventory(products):\n",
    "    inventory = {}\n",
    "    for product in products:\n",
    "        valid_quantity = False\n",
    "        while not valid_quantity:\n",
    "            try:\n",
    "                quantity = int(input(f\"Enter the quantity of {product}s available: \"))\n",
    "                if quantity < 0:\n",
    "                    raise ValueError(\"Invalid quantity! Please enter a non-negative value.\")\n",
    "                valid_quantity = True\n",
    "            except ValueError as error:\n",
    "                print(f\"Error: {error}\")\n",
    "        inventory[product] = quantity\n",
    "    return inventory\n",
    "\n",
    "# Or, in another way:\n",
    "\n",
    "def initialize_inventory(products):\n",
    "    inventory = {}\n",
    "    for product in products:\n",
    "        valid_input = False\n",
    "        while not valid_input:\n",
    "            try:\n",
    "                quantity = int(input(f\"Enter the quantity of {product}s available: \"))\n",
    "                if quantity >= 0:\n",
    "                    inventory[product] = quantity\n",
    "                    valid_input = True\n",
    "                else:\n",
    "                    print(\"Quantity cannot be negative. Please enter a valid quantity.\")\n",
    "            except ValueError:\n",
    "                print(\"Invalid input. Please enter a valid quantity.\")\n",
    "    return inventory\n",
    "```\n",
    "\n",
    "Let's enhance your code by implementing error handling to handle invalid inputs.\n",
    "\n",
    "Follow the steps below to complete the exercise:\n",
    "\n",
    "2. Modify the `calculate_total_price` function to include error handling.\n",
    "   - If the user enters an invalid price (e.g., a negative value or a non-numeric value), display an error message and ask them to re-enter the price for that product.\n",
    "   - Use a try-except block to handle the error and continue prompting the user until a valid price is entered. \n",
    "\n",
    "3. Modify the `get_customer_orders` function to include error handling.\n",
    "   - If the user enters an invalid number of orders (e.g., a negative value or a non-numeric value), display an error message and ask them to re-enter the number of orders.\n",
    "   - If the user enters an invalid product name (e.g., a product name that is not in the inventory), or that doesn't have stock available, display an error message and ask them to re-enter the product name. *Hint: you will need to pass inventory as a parameter*\n",
    "   - Use a try-except block to handle the error and continue prompting the user until a valid product name is entered.\n",
    "\n",
    "4. Test your code by running the program and deliberately entering invalid quantities and product names. Make sure the error handling mechanism works as expected.\n"
   ]
  },
  {
   "cell_type": "code",
   "execution_count": 8,
   "id": "de97e744",
   "metadata": {},
   "outputs": [],
   "source": [
    "#2 \n",
    "\n",
    "#Funçao antiga\n",
    "def total_price(customer_orders):\n",
    "    prices = {product: float(input(f\"Enter the price of {product}: \")) for product in customer_orders}\n",
    "    total_price = sum(prices.values())  # Sum the values (prices) of the 'prices' dictionary.\n",
    "    return total_price\n"
   ]
  },
  {
   "cell_type": "code",
   "execution_count": 11,
   "id": "9932ddff",
   "metadata": {},
   "outputs": [],
   "source": [
    "\n",
    "#Resposta \n",
    "customer_orders = [\"a\",\"b\",\"c\"]\n",
    "\n",
    "def calc_total_price(customer_orders):\n",
    "    prices = {product: get_valid_price(product) for product in customer_orders}\n",
    "    total_price = sum(prices.values())\n",
    "    return total_price\n",
    "\n",
    "def get_valid_price(product):\n",
    "        while True:\n",
    "            try:\n",
    "                price = float(input(f\"Enter the price of the price of {product}: \"))\n",
    "                if price < 0:\n",
    "                    raise ValueError(\"Invalid price! Please insert a non-negative number.\")\n",
    "                return price \n",
    "            except ValueError as error:\n",
    "                print(f\"Error: {error}\")"
   ]
  },
  {
   "cell_type": "code",
   "execution_count": 12,
   "id": "b6606633",
   "metadata": {},
   "outputs": [
    {
     "data": {
      "text/plain": [
       "12.0"
      ]
     },
     "execution_count": 12,
     "metadata": {},
     "output_type": "execute_result"
    }
   ],
   "source": [
    "calc_total_price(customer_orders)"
   ]
  },
  {
   "cell_type": "code",
   "execution_count": 9,
   "id": "ceccb843",
   "metadata": {},
   "outputs": [
    {
     "data": {
      "text/plain": [
       "11.0"
      ]
     },
     "execution_count": 9,
     "metadata": {},
     "output_type": "execute_result"
    }
   ],
   "source": [
    "total_price(customer_orders)"
   ]
  },
  {
   "cell_type": "code",
   "execution_count": null,
   "id": "ae5cc8f4",
   "metadata": {},
   "outputs": [],
   "source": [
    " ### Modify the `get_customer_orders` function to include error handling.\n",
    "   # If the user enters an invalid number of orders (e.g., a negative value or a non-numeric value), display an error message and ask them to re-enter the number of orders.\n",
    "   # If the user enters an invalid product name (e.g., a product name that is not in the inventory), or that doesn't have stock available, display an error message and ask them to re-enter the product name. *Hint: you will need to pass inventory as a parameter*\n",
    "   # Use a try-except block to handle the error and continue prompting the user until a valid product name is entered.\n",
    "\n",
    "def get_customer_orders ():\n",
    "    number_orders = int(input(f\"Enter the number of customer orders: \"))\n",
    "    customer_orders = {input(f\"Enter the product name: \") for i in range(number_orders)}\n",
    "    return customer_orders"
   ]
  },
  {
   "cell_type": "code",
   "execution_count": 1,
   "id": "464dc94a",
   "metadata": {},
   "outputs": [],
   "source": [
    "inventory = {\"a\": 1, \"b\": 0, \"c\": 3}\n",
    "\n",
    "def get_customer_orders_new(inventory):\n",
    "    valid_order = False\n",
    "    while not valid_order:\n",
    "        try:\n",
    "            number_orders = int(input(f\"Enter the number of customer orders: \"))\n",
    "            if number_orders < 0:\n",
    "                raise ValueError(\"Invalid quantity! Please enter a non-negative integer number.\")\n",
    "            valid_order = True\n",
    "        except ValueError as error:\n",
    "            print(f\"Error: {error}\")\n",
    "\n",
    "    valid_cust_order = False\n",
    "    while not valid_cust_order:\n",
    "        try:\n",
    "            customer_orders = {input(f\"Enter the product name: \") for _ in range(number_orders)}\n",
    "            for product in customer_orders:\n",
    "                if product not in inventory or inventory[product] < 1:\n",
    "                    raise KeyError(f\"{product} is sold out or out of stock. Please insert other product.\")\n",
    "            valid_cust_order = True\n",
    "        except KeyError as error:\n",
    "            print(f\"Error: {error}\")\n",
    "\n",
    "    return customer_orders"
   ]
  },
  {
   "cell_type": "code",
   "execution_count": 4,
   "id": "49a5df13",
   "metadata": {},
   "outputs": [
    {
     "name": "stdout",
     "output_type": "stream",
     "text": [
      "Error: invalid literal for int() with base 10: 'q'\n",
      "Error: 'b is sold out or out of stock. Please insert other product.'\n"
     ]
    },
    {
     "data": {
      "text/plain": [
       "{'a', 'c'}"
      ]
     },
     "execution_count": 4,
     "metadata": {},
     "output_type": "execute_result"
    }
   ],
   "source": [
    "get_customer_orders_new (inventory)\n",
    "\n",
    "# Podia ser otimizado. A função apaga o primeiro registo e começa de novo obrgando a colocar todos os produtos de novo. \n"
   ]
  },
  {
   "cell_type": "code",
   "execution_count": null,
   "id": "1990d16b",
   "metadata": {},
   "outputs": [],
   "source": []
  }
 ],
 "metadata": {
  "kernelspec": {
   "display_name": "Python 3 (ipykernel)",
   "language": "python",
   "name": "python3"
  },
  "language_info": {
   "codemirror_mode": {
    "name": "ipython",
    "version": 3
   },
   "file_extension": ".py",
   "mimetype": "text/x-python",
   "name": "python",
   "nbconvert_exporter": "python",
   "pygments_lexer": "ipython3",
   "version": "3.10.11"
  }
 },
 "nbformat": 4,
 "nbformat_minor": 5
}
