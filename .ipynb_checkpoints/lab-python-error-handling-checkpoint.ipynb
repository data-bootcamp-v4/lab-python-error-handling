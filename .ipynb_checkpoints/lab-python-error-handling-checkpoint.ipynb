{
 "cells": [
  {
   "cell_type": "markdown",
   "id": "25d7736c-ba17-4aff-b6bb-66eba20fbf4e",
   "metadata": {},
   "source": [
    "# Lab | Error Handling"
   ]
  },
  {
   "cell_type": "markdown",
   "id": "bc99b386-7508-47a0-bcdb-d969deaf6c8b",
   "metadata": {},
   "source": [
    "## Exercise: Error Handling for Managing Customer Orders\n",
    "\n",
    "The implementation of your code for managing customer orders assumes that the user will always enter a valid input. \n",
    "\n",
    "For example, we could modify the `initialize_inventory` function to include error handling.\n",
    "   - If the user enters an invalid quantity (e.g., a negative value or a non-numeric value), display an error message and ask them to re-enter the quantity for that product.\n",
    "   - Use a try-except block to handle the error and continue prompting the user until a valid quantity is entered.\n",
    "\n",
    "```python\n",
    "# Step 1: Define the function for initializing the inventory with error handling\n",
    "def initialize_inventory(products):\n",
    "    inventory = {}\n",
    "    for product in products:\n",
    "        valid_quantity = False\n",
    "        while not valid_quantity:\n",
    "            try:\n",
    "                quantity = int(input(f\"Enter the quantity of {product}s available: \"))\n",
    "                if quantity < 0:\n",
    "                    raise ValueError(\"Invalid quantity! Please enter a non-negative value.\")\n",
    "                valid_quantity = True\n",
    "            except ValueError as error:\n",
    "                print(f\"Error: {error}\")\n",
    "        inventory[product] = quantity\n",
    "    return inventory\n",
    "\n",
    "# Or, in another way:\n",
    "\n",
    "def initialize_inventory(products):\n",
    "    inventory = {}\n",
    "    for product in products:\n",
    "        valid_input = False\n",
    "        while not valid_input:\n",
    "            try:\n",
    "                quantity = int(input(f\"Enter the quantity of {product}s available: \"))\n",
    "                if quantity >= 0:\n",
    "                    inventory[product] = quantity\n",
    "                    valid_input = True\n",
    "                else:\n",
    "                    print(\"Quantity cannot be negative. Please enter a valid quantity.\")\n",
    "            except ValueError:\n",
    "                print(\"Invalid input. Please enter a valid quantity.\")\n",
    "    return inventory\n",
    "```\n",
    "\n",
    "Let's enhance your code by implementing error handling to handle invalid inputs.\n",
    "\n",
    "Follow the steps below to complete the exercise:\n",
    "\n",
    "2. Modify the `calculate_total_price` function to include error handling.\n",
    "   - If the user enters an invalid price (e.g., a negative value or a non-numeric value), display an error message and ask them to re-enter the price for that product.\n",
    "   - Use a try-except block to handle the error and continue prompting the user until a valid price is entered.\n",
    "\n",
    "3. Modify the `get_customer_orders` function to include error handling.\n",
    "   - If the user enters an invalid number of orders (e.g., a negative value or a non-numeric value), display an error message and ask them to re-enter the number of orders.\n",
    "   - If the user enters an invalid product name (e.g., a product name that is not in the inventory), or that doesn't have stock available, display an error message and ask them to re-enter the product name. *Hint: you will need to pass inventory as a parameter*\n",
    "   - Use a try-except block to handle the error and continue prompting the user until a valid product name is entered.\n",
    "\n",
    "4. Test your code by running the program and deliberately entering invalid quantities and product names. Make sure the error handling mechanism works as expected.\n"
   ]
  },
  {
   "cell_type": "code",
   "execution_count": 38,
   "id": "17a965b0-9ac9-4dc0-9627-f9cffe6e7b54",
   "metadata": {},
   "outputs": [],
   "source": [
    "products = [\"t-shirt\", \"mug\", \"hat\", \"book\", \"keychain\"]\n",
    "inventory = {}\n",
    "customer_orders = set()\n",
    "\n",
    "def initialize_inventory(products):\n",
    "    for product in products:\n",
    "        valid_quantity = False\n",
    "        while not valid_quantity:\n",
    "            try:\n",
    "                inventory[product] = int(input(f\"How many {product}s are there in the inventory? \"))\n",
    "                if inventory[product] < 0:\n",
    "                    raise ValueError(\"Invalid quantity! Please enter a non-negative value.\")\n",
    "                valid_quantity = True\n",
    "            except ValueError as error:\n",
    "                print(f\"Error: {error}\")\n",
    "    return(inventory)\n",
    "\n",
    "def initialize_price(customer_orders):\n",
    "    total_price = 0\n",
    "    for i in customer_orders:\n",
    "        valid_price = False\n",
    "        input_price = float(input(f\"Please input the price of one {i}: \"))\n",
    "        while not valid_price:\n",
    "            if input_price < 0:\n",
    "                    raise ValueError(\"Invalid quantity! Please enter a non-negative value.\")\n",
    "            try:\n",
    "                total_price += input_price\n",
    "                valid_price = True\n",
    "            except ValueError as error:\n",
    "                print(f\"Error: {error}\")\n",
    "    return total_price\n",
    "\n",
    "def get_customer_orders():\n",
    "    while True:\n",
    "        user_input = input(\"Please input the product that you would like to order: \")\n",
    "        if user_input in products:\n",
    "            if inventory[user_input] == 0:\n",
    "                print(\"ERROR: One of the items you were trying to order is out of stock.\")\n",
    "                continue\n",
    "            try:\n",
    "                customer_orders.add(user_input)\n",
    "            except ValueError as error:\n",
    "                print(f\"Error: {error}\")\n",
    "        else:\n",
    "            print(\"That's not a valid product.\")\n",
    "            continue\n",
    "        while True:\n",
    "            user_choice = input(\"Would you like to order another item? (Y/N) \").lower()\n",
    "            if user_choice == 'n':\n",
    "                break\n",
    "            elif user_choice == 'y':\n",
    "                break\n",
    "            else:\n",
    "                print(\"Please enter 'Y' for yes or 'N' for no.\")\n",
    "                continue\n",
    "        if user_choice == \"n\":\n",
    "            break\n",
    "    return(customer_orders)\n",
    "\n",
    "def update_inventory(customer_orders, inventory):\n",
    "    for product in customer_orders:\n",
    "        inventory[product] -= 1\n",
    "    return inventory\n",
    "\n",
    "def calculate_order_statistics(customer_orders, products):\n",
    "    total_ordered = len(customer_orders)\n",
    "    order_percentage = round(total_ordered / sum(inventory.values()) * 100, 2)\n",
    "    return [total_ordered, order_percentage]\n",
    "\n",
    "def print_updated_inventory(inventory):\n",
    "    print(f\"Order Statistics:\"\n",
    "          f\"\\nTotal Products Ordered: {total_ordered}\"\n",
    "          f\"\\nPercentage of Products Ordered: {order_percentage}%\"\n",
    "          f\"\\n\")    \n",
    "    for product, stock in inventory.items():\n",
    "        print(f\"{product}: {stock}\")"
   ]
  },
  {
   "cell_type": "code",
   "execution_count": 39,
   "id": "1f1ef673-7384-4406-8368-81619088d60d",
   "metadata": {},
   "outputs": [
    {
     "name": "stdin",
     "output_type": "stream",
     "text": [
      "How many t-shirts are there in the inventory?  2\n",
      "How many mugs are there in the inventory?  1\n",
      "How many hats are there in the inventory?  0\n",
      "How many books are there in the inventory?  0\n",
      "How many keychains are there in the inventory?  0\n"
     ]
    },
    {
     "name": "stdout",
     "output_type": "stream",
     "text": [
      "{'t-shirt': 2, 'mug': 1, 'hat': 0, 'book': 0, 'keychain': 0}\n"
     ]
    },
    {
     "name": "stdin",
     "output_type": "stream",
     "text": [
      "Please input the product that you would like to order:  keychain\n"
     ]
    },
    {
     "name": "stdout",
     "output_type": "stream",
     "text": [
      "ERROR: One of the items you were trying to order is out of stock.\n"
     ]
    },
    {
     "name": "stdin",
     "output_type": "stream",
     "text": [
      "Please input the product that you would like to order:  keychain\n"
     ]
    },
    {
     "name": "stdout",
     "output_type": "stream",
     "text": [
      "ERROR: One of the items you were trying to order is out of stock.\n"
     ]
    },
    {
     "name": "stdin",
     "output_type": "stream",
     "text": [
      "Please input the product that you would like to order:  mug\n",
      "Would you like to order another item? (Y/N)  y\n",
      "Please input the product that you would like to order:  book\n"
     ]
    },
    {
     "name": "stdout",
     "output_type": "stream",
     "text": [
      "ERROR: One of the items you were trying to order is out of stock.\n"
     ]
    },
    {
     "name": "stdin",
     "output_type": "stream",
     "text": [
      "Please input the product that you would like to order:  t-shirt\n",
      "Would you like to order another item? (Y/N)  n\n",
      "Please input the price of one t-shirt:  5\n",
      "Please input the price of one mug:  2\n"
     ]
    },
    {
     "name": "stdout",
     "output_type": "stream",
     "text": [
      "Order Statistics:\n",
      "Total Products Ordered: 2\n",
      "Percentage of Products Ordered: 200.0%\n",
      "\n",
      "t-shirt: 1\n",
      "mug: 0\n",
      "hat: 0\n",
      "book: 0\n",
      "keychain: 0\n"
     ]
    }
   ],
   "source": [
    "initialize_inventory(products)\n",
    "print(inventory)\n",
    "get_customer_orders()\n",
    "total_price = initialize_price(customer_orders)\n",
    "update_inventory(customer_orders, inventory)\n",
    "calculate_order_statistics(customer_orders, products)\n",
    "total_ordered, order_percentage = calculate_order_statistics(customer_orders, inventory)\n",
    "print_updated_inventory(inventory)"
   ]
  },
  {
   "cell_type": "code",
   "execution_count": null,
   "id": "892ba234-c1ee-4419-a49b-6c890ce1fcde",
   "metadata": {},
   "outputs": [],
   "source": []
  }
 ],
 "metadata": {
  "kernelspec": {
   "display_name": "Python 3 (ipykernel)",
   "language": "python",
   "name": "python3"
  },
  "language_info": {
   "codemirror_mode": {
    "name": "ipython",
    "version": 3
   },
   "file_extension": ".py",
   "mimetype": "text/x-python",
   "name": "python",
   "nbconvert_exporter": "python",
   "pygments_lexer": "ipython3",
   "version": "3.11.5"
  }
 },
 "nbformat": 4,
 "nbformat_minor": 5
}
