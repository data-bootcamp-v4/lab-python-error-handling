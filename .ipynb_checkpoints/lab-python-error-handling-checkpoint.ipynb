{
 "cells": [
  {
   "cell_type": "markdown",
   "id": "25d7736c-ba17-4aff-b6bb-66eba20fbf4e",
   "metadata": {},
   "source": [
    "# Lab | Error Handling"
   ]
  },
  {
   "cell_type": "markdown",
   "id": "bc99b386-7508-47a0-bcdb-d969deaf6c8b",
   "metadata": {},
   "source": [
    "## Exercise: Error Handling for Managing Customer Orders\n",
    "\n",
    "The implementation of your code for managing customer orders assumes that the user will always enter a valid input. \n",
    "\n",
    "For example, we could modify the `initialize_inventory` function to include error handling.\n",
    "   - If the user enters an invalid quantity (e.g., a negative value or a non-numeric value), display an error message and ask them to re-enter the quantity for that product.\n",
    "   - Use a try-except block to handle the error and continue prompting the user until a valid quantity is entered.\n",
    "\n",
    "```python\n",
    "# Step 1: Define the function for initializing the inventory with error handling\n",
    "def initialize_inventory(products):\n",
    "    inventory = {}\n",
    "    for product in products:\n",
    "        valid_quantity = False\n",
    "        while not valid_quantity:\n",
    "            try:\n",
    "                quantity = int(input(f\"Enter the quantity of {product}s available: \"))\n",
    "                if quantity < 0:\n",
    "                    raise ValueError(\"Invalid quantity! Please enter a non-negative value.\")\n",
    "                valid_quantity = True\n",
    "            except ValueError as error:\n",
    "                print(f\"Error: {error}\")\n",
    "        inventory[product] = quantity\n",
    "    return inventory\n",
    "\n",
    "# Or, in another way:\n",
    "\n",
    "def initialize_inventory(products):\n",
    "    inventory = {}\n",
    "    for product in products:\n",
    "        valid_input = False\n",
    "        while not valid_input:\n",
    "            try:\n",
    "                quantity = int(input(f\"Enter the quantity of {product}s available: \"))\n",
    "                if quantity >= 0:\n",
    "                    inventory[product] = quantity\n",
    "                    valid_input = True\n",
    "                else:\n",
    "                    print(\"Quantity cannot be negative. Please enter a valid quantity.\")\n",
    "            except ValueError:\n",
    "                print(\"Invalid input. Please enter a valid quantity.\")\n",
    "    return inventory\n",
    "```\n",
    "\n",
    "Let's enhance your code by implementing error handling to handle invalid inputs.\n",
    "\n",
    "Follow the steps below to complete the exercise:\n",
    "\n",
    "2. Modify the `calculate_total_price` function to include error handling.\n",
    "   - If the user enters an invalid price (e.g., a negative value or a non-numeric value), display an error message and ask them to re-enter the price for that product.\n",
    "   - Use a try-except block to handle the error and continue prompting the user until a valid price is entered.\n",
    "\n",
    "3. Modify the `get_customer_orders` function to include error handling.\n",
    "   - If the user enters an invalid number of orders (e.g., a negative value or a non-numeric value), display an error message and ask them to re-enter the number of orders.\n",
    "   - If the user enters an invalid product name (e.g., a product name that is not in the inventory), or that doesn't have stock available, display an error message and ask them to re-enter the product name. *Hint: you will need to pass inventory as a parameter*\n",
    "   - Use a try-except block to handle the error and continue prompting the user until a valid product name is entered.\n",
    "\n",
    "4. Test your code by running the program and deliberately entering invalid quantities and product names. Make sure the error handling mechanism works as expected.\n"
   ]
  },
  {
   "cell_type": "code",
   "execution_count": 33,
   "id": "8a311377-23af-47f2-b0f7-59524de76688",
   "metadata": {},
   "outputs": [
    {
     "name": "stdin",
     "output_type": "stream",
     "text": [
      "Enter the quantity of t-shirts available:  2\n",
      "Enter the quantity of mugs available:  mug\n"
     ]
    },
    {
     "name": "stdout",
     "output_type": "stream",
     "text": [
      "Error: invalid literal for int() with base 10: 'mug'\n"
     ]
    },
    {
     "name": "stdin",
     "output_type": "stream",
     "text": [
      "Enter the quantity of mugs available:  hat\n"
     ]
    },
    {
     "name": "stdout",
     "output_type": "stream",
     "text": [
      "Error: invalid literal for int() with base 10: 'hat'\n"
     ]
    },
    {
     "name": "stdin",
     "output_type": "stream",
     "text": [
      "Enter the quantity of mugs available:  3\n",
      "Enter the quantity of hats available:  4\n",
      "Enter the quantity of books available:  5\n",
      "Enter the quantity of keychains available:  6\n"
     ]
    },
    {
     "name": "stdout",
     "output_type": "stream",
     "text": [
      "{'t-shirt': 2, 'mug': 3, 'hat': 4, 'book': 5, 'keychain': 6}\n"
     ]
    }
   ],
   "source": [
    "products = [\"t-shirt\", \"mug\", \"hat\", \"book\", \"keychain\"]\n",
    "\n",
    "# Step 1: Define the function for initializing the inventory with error handling\n",
    "def initialize_inventory(products):\n",
    "    inventory = {}\n",
    "    for product in products:\n",
    "        valid_quantity = False\n",
    "        while not valid_quantity:\n",
    "            try:\n",
    "                quantity = int(input(f\"Enter the quantity of {product}s available: \"))\n",
    "                if quantity < 0:\n",
    "                    raise ValueError(\"Invalid quantity! Please enter a non-negative value.\")\n",
    "                valid_quantity = True\n",
    "            except ValueError as error:\n",
    "                print(f\"Error: {error}\")\n",
    "        inventory[product] = quantity\n",
    "    return inventory\n",
    "\n",
    "# Usability\n",
    "inventory = initialize_inventory(products)\n",
    "print (inventory)"
   ]
  },
  {
   "cell_type": "code",
   "execution_count": 57,
   "id": "d73b9750-ec13-4164-b7dd-d445f64be728",
   "metadata": {},
   "outputs": [
    {
     "name": "stdin",
     "output_type": "stream",
     "text": [
      "Enter the number of customer orders:  2\n",
      "Enter the name of a product you want to order:  hat\n",
      "Enter the name of a product you want to order:  mug\n"
     ]
    },
    {
     "name": "stdout",
     "output_type": "stream",
     "text": [
      "['hat', 'mug']\n"
     ]
    }
   ],
   "source": [
    "# Modify the get_customer_orders function to include error handling.\n",
    "# If the user enters an invalid number of orders (e.g., a negative value or a non-numeric value),\n",
    "# display an error message and ask them to re-enter the number of orders.\n",
    "# If the user enters an invalid product name (e.g., a product name that is not in the inventory),\n",
    "# or that doesn't have stock available, display an error message and ask them to re-enter the product name.\n",
    "# Hint: you will need to pass inventory as a parameter\n",
    "\n",
    "def get_customer_orders():\n",
    "    valid_num_orders = False\n",
    "    while not valid_num_orders:\n",
    "        try:\n",
    "            num_orders = input('Enter the number of customer orders: ')\n",
    "            if not num_orders.isdigit() or int(num_orders) <= 0:\n",
    "                    raise ValueError(\"You have added a negative value or a non-numeric value. Re-enter the price for that product\")\n",
    "                \n",
    "            valid_num_orders = True\n",
    "                \n",
    "        except ValueError as error:\n",
    "                print (f\"Error: {error}\")\n",
    "    \n",
    "    customer_orders = list()\n",
    "    for _ in range(int(num_orders)):\n",
    "        \n",
    "        name_orders = False\n",
    "        while not name_orders:\n",
    "            try:\n",
    "                order = input('Enter the name of a product you want to order: ').lower()\n",
    "                if order not in products:\n",
    "                    raise IndexError(\"Product name that is not in the inventory. Re-enter the product name\")\n",
    "                elif inventory[order] <= 0:\n",
    "                    raise IndexError(\"Product name that is not in the inventory. Re-enter the product name\")\n",
    "                    \n",
    "                name_orders = True\n",
    "                \n",
    "            except IndexError as error:\n",
    "                print (f\"Error: {error}\")\n",
    "\n",
    "        customer_orders.append(order)\n",
    "\n",
    "    return customer_orders\n",
    "\n",
    "# Usability\n",
    "customer_orders = get_customer_orders()\n",
    "print (customer_orders)"
   ]
  },
  {
   "cell_type": "code",
   "execution_count": 48,
   "id": "c9f37308-a919-4e4a-bb09-8844dccb98ca",
   "metadata": {},
   "outputs": [
    {
     "name": "stdout",
     "output_type": "stream",
     "text": [
      "(2, 40.0)\n"
     ]
    }
   ],
   "source": [
    "def calculate_order_statistics(customer_orders, products):\n",
    "    total_products_ordered = len(customer_orders)\n",
    "    total_products_inventory = len(products)\n",
    "    if total_products_inventory >= 0:\n",
    "        \n",
    "        percentage_of_products_ordered = round((total_products_ordered / total_products_inventory) * 100, 2)\n",
    "        order_statistics = (total_products_ordered, percentage_of_products_ordered)\n",
    "    else:\n",
    "        order_statistics = (\"We have no products in inventory\")\n",
    "    return order_statistics\n",
    "\n",
    "# Usability\n",
    "order_stats = calculate_order_statistics(customer_orders, products)\n",
    "print (order_stats)"
   ]
  },
  {
   "cell_type": "code",
   "execution_count": 36,
   "id": "38274297-24d8-414b-869f-e387ed281f16",
   "metadata": {},
   "outputs": [
    {
     "name": "stdin",
     "output_type": "stream",
     "text": [
      "enter the price of mug 2\n",
      "enter the price of hat 3\n"
     ]
    },
    {
     "name": "stdout",
     "output_type": "stream",
     "text": [
      "5\n"
     ]
    }
   ],
   "source": [
    "# Modify the calculate_total_price function to include error handling.\n",
    "# If the user enters an invalid price (e.g., a negative value or a non-numeric value),\n",
    "# display an error message and ask them to re-enter the price for that product.\n",
    "# Use a try-except block to handle the error and continue prompting the user until a valid price is entered.\n",
    "\n",
    "def total_price(customer_orders):\n",
    "    total_price = 0\n",
    "    for product in customer_orders:\n",
    "        \n",
    "        valid_price = False\n",
    "        while not valid_price:\n",
    "            try:\n",
    "                product_price = (input(f\"enter the price of {product}\"))\n",
    "                if not product_price.isdigit() or int(product_price) <= 0:\n",
    "                    raise ValueError(\"You have added a negative value or a non-numeric value. Re-enter the price for that product\")\n",
    "                \n",
    "                valid_price = True\n",
    "                \n",
    "            except ValueError as error:\n",
    "                print (f\"Error: {error}\")\n",
    "                \n",
    "        total_price += int(product_price)\n",
    "    \n",
    "    return total_price\n",
    "\n",
    "# usability\n",
    "order_price = total_price(customer_orders)\n",
    "print (order_price)"
   ]
  },
  {
   "cell_type": "code",
   "execution_count": null,
   "id": "728a8318-7a57-4d18-a104-60bc4ce9489a",
   "metadata": {},
   "outputs": [],
   "source": []
  },
  {
   "cell_type": "code",
   "execution_count": null,
   "id": "e88cd02a-a62c-470a-b21e-ed0fe4fab85d",
   "metadata": {},
   "outputs": [],
   "source": []
  },
  {
   "cell_type": "code",
   "execution_count": null,
   "id": "b94417c5-ea4f-4f56-8fa2-fd3dbba6623e",
   "metadata": {},
   "outputs": [],
   "source": []
  }
 ],
 "metadata": {
  "kernelspec": {
   "display_name": "Python 3 (ipykernel)",
   "language": "python",
   "name": "python3"
  },
  "language_info": {
   "codemirror_mode": {
    "name": "ipython",
    "version": 3
   },
   "file_extension": ".py",
   "mimetype": "text/x-python",
   "name": "python",
   "nbconvert_exporter": "python",
   "pygments_lexer": "ipython3",
   "version": "3.11.7"
  }
 },
 "nbformat": 4,
 "nbformat_minor": 5
}
