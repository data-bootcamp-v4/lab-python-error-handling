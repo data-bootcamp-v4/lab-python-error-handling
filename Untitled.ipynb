{
 "cells": [
  {
   "cell_type": "code",
   "execution_count": null,
   "id": "0be00030-71d7-44d9-99ca-65999ca78459",
   "metadata": {},
   "outputs": [
    {
     "name": "stdin",
     "output_type": "stream",
     "text": [
      "Enter the quantity of t-shirts available:  0\n",
      "Enter the quantity of mugs available:  3\n",
      "Enter the quantity of hats available:  4\n",
      "Enter the quantity of books available:  5\n",
      "Enter the quantity of keychains available:  6\n",
      "How many orders would you like to place?  6\n"
     ]
    },
    {
     "name": "stdout",
     "output_type": "stream",
     "text": [
      "Products available: t-shirt, mug, hat, book, keychain\n"
     ]
    },
    {
     "name": "stdin",
     "output_type": "stream",
     "text": [
      "Enter the products that you would like to order (type 'done' to finish):  book\n"
     ]
    },
    {
     "name": "stdout",
     "output_type": "stream",
     "text": [
      "Products available: t-shirt, mug, hat, book, keychain\n"
     ]
    },
    {
     "name": "stdin",
     "output_type": "stream",
     "text": [
      "Enter the products that you would like to order (type 'done' to finish):  done\n"
     ]
    },
    {
     "name": "stdout",
     "output_type": "stream",
     "text": [
      "Products available: t-shirt, mug, hat, book, keychain\n"
     ]
    },
    {
     "name": "stdin",
     "output_type": "stream",
     "text": [
      "Enter the products that you would like to order (type 'done' to finish):  done\n"
     ]
    },
    {
     "name": "stdout",
     "output_type": "stream",
     "text": [
      "Products available: t-shirt, mug, hat, book, keychain\n"
     ]
    }
   ],
   "source": [
    "products = [\"t-shirt\", \"mug\", \"hat\", \"book\", \"keychain\"]\n",
    "\n",
    "def initialize_inventory(products):\n",
    "    inventory = {}\n",
    "    for product in products:\n",
    "        valid_quantity = False\n",
    "        while not valid_quantity:\n",
    "            try:\n",
    "                quantity = int(input(f\"Enter the quantity of {product}s available: \"))\n",
    "                if quantity < 0:\n",
    "                    raise ValueError(\"Invalid quantity! Please enter a non-negative value.\")\n",
    "                valid_quantity = True\n",
    "            except ValueError as error:\n",
    "                print(f\"Error: {error}\")\n",
    "        inventory[product] = quantity\n",
    "    return inventory\n",
    "\n",
    "def get_customer_orders(inventory):\n",
    "    customer_orders = set()\n",
    "    \n",
    "    while True:\n",
    "        try:\n",
    "            num_orders = int(input(\"How many orders would you like to place? \"))\n",
    "            if num_orders <= 0:\n",
    "                raise ValueError(\"Number of orders must be positive.\")\n",
    "            break  \n",
    "        except ValueError as e:\n",
    "            print(\"Error:\", e)\n",
    "    \n",
    "    for order_index in range(num_orders):\n",
    "        while True:\n",
    "            try:\n",
    "                print(f\"Products available: {', '.join(inventory.keys())}\")\n",
    "                order = input(\"Enter the products that you would like to order (type 'done' to finish): \").strip()\n",
    "                if order.lower() == 'done':\n",
    "                    break\n",
    "                elif order not in inventory or inventory[order] == 0:\n",
    "                    raise ValueError(\"Invalid product name or out of stock.\")\n",
    "                customer_orders.add(order)\n",
    "                break  # Break the loop if a valid product name is entered\n",
    "            except ValueError as e:\n",
    "                print(\"Error:\", e)\n",
    "    \n",
    "    return customer_orders\n",
    "\n",
    "def calculate_total_price(customer_orders):\n",
    "    prices = {}\n",
    "    for product in customer_orders:\n",
    "        while True:\n",
    "            try:\n",
    "                price = float(input(f\"Enter the price of {product}: \"))\n",
    "                if price <= 0:\n",
    "                    raise ValueError(\"Price must be a positive number.\")\n",
    "                break  # Break the loop if a valid price is entered\n",
    "            except ValueError as e:\n",
    "                print(\"Error:\", e)\n",
    "    prices[product] = price\n",
    "    total_price = sum(prices.values())\n",
    "    return total_price\n",
    "\n",
    "def calculate_order_statistics(customer_orders, products):\n",
    "    total_products_ordered = len(customer_orders)\n",
    "    inventory_total_products = sum(updated_inventory.values())\n",
    "    percentage_of_unique_products_ordered = (total_products_ordered / inventory_total_products)*100\n",
    "\n",
    "def update_inventory(inventory, customer_orders):\n",
    "    for order in customer_orders:\n",
    "        if order in inventory:\n",
    "            inventory[order] -= 1\n",
    "    \n",
    "    \n",
    "    inventory = {product: quantity for product, quantity in inventory.items() if quantity > 0}\n",
    "    \n",
    "    return inventory\n",
    "\n",
    "inventory = initialize_inventory(products)\n",
    "\n",
    "# Get customer orders\n",
    "orders = get_customer_orders(inventory)\n",
    "\n",
    "# Update inventory\n",
    "inventory = update_inventory(inventory, orders)\n",
    "\n",
    "# Calculate total price\n",
    "total_price = calculate_total_price(orders)\n",
    "\n",
    "# Print total price\n",
    "print(\"Total price of the customer order:\", total_price)"
   ]
  },
  {
   "cell_type": "code",
   "execution_count": null,
   "id": "333f2063-b56c-432e-adcd-ed5a5157787c",
   "metadata": {},
   "outputs": [],
   "source": []
  }
 ],
 "metadata": {
  "kernelspec": {
   "display_name": "Python 3 (ipykernel)",
   "language": "python",
   "name": "python3"
  },
  "language_info": {
   "codemirror_mode": {
    "name": "ipython",
    "version": 3
   },
   "file_extension": ".py",
   "mimetype": "text/x-python",
   "name": "python",
   "nbconvert_exporter": "python",
   "pygments_lexer": "ipython3",
   "version": "3.11.7"
  }
 },
 "nbformat": 4,
 "nbformat_minor": 5
}
