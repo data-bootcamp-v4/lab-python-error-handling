{
 "cells": [
  {
   "cell_type": "markdown",
   "id": "25d7736c-ba17-4aff-b6bb-66eba20fbf4e",
   "metadata": {},
   "source": [
    "# Lab | Error Handling"
   ]
  },
  {
   "cell_type": "markdown",
   "id": "bc99b386-7508-47a0-bcdb-d969deaf6c8b",
   "metadata": {},
   "source": [
    "## Exercise: Error Handling for Managing Customer Orders\n",
    "\n",
    "The implementation of your code for managing customer orders assumes that the user will always enter a valid input. \n",
    "\n",
    "For example, we could modify the `initialize_inventory` function to include error handling.\n",
    "   - If the user enters an invalid quantity (e.g., a negative value or a non-numeric value), display an error message and ask them to re-enter the quantity for that product.\n",
    "   - Use a try-except block to handle the error and continue prompting the user until a valid quantity is entered.\n",
    "\n",
    "```python\n",
    "# Step 1: Define the function for initializing the inventory with error handling\n",
    "def initialize_inventory(products):\n",
    "    inventory = {}\n",
    "    for product in products:\n",
    "        valid_quantity = False\n",
    "        while not valid_quantity:\n",
    "            try:\n",
    "                quantity = int(input(f\"Enter the quantity of {product}s available: \"))\n",
    "                if quantity < 0:\n",
    "                    raise ValueError(\"Invalid quantity! Please enter a non-negative value.\")\n",
    "                valid_quantity = True\n",
    "            except ValueError as error:\n",
    "                print(f\"Error: {error}\")\n",
    "        inventory[product] = quantity\n",
    "    return inventory\n",
    "\n",
    "# Or, in another way:\n",
    "\n",
    "def initialize_inventory(products):\n",
    "    inventory = {}\n",
    "    for product in products:\n",
    "        valid_input = False\n",
    "        while not valid_input:\n",
    "            try:\n",
    "                quantity = int(input(f\"Enter the quantity of {product}s available: \"))\n",
    "                if quantity >= 0:\n",
    "                    inventory[product] = quantity\n",
    "                    valid_input = True\n",
    "                else:\n",
    "                    print(\"Quantity cannot be negative. Please enter a valid quantity.\")\n",
    "            except ValueError:\n",
    "                print(\"Invalid input. Please enter a valid quantity.\")\n",
    "    return inventory\n",
    "```\n",
    "\n",
    "Let's enhance your code by implementing error handling to handle invalid inputs.\n",
    "\n",
    "Follow the steps below to complete the exercise:\n",
    "\n",
    "2. Modify the `calculate_total_price` function to include error handling.\n",
    "   - If the user enters an invalid price (e.g., a negative value or a non-numeric value), display an error message and ask them to re-enter the price for that product.\n",
    "   - Use a try-except block to handle the error and continue prompting the user until a valid price is entered.\n",
    "\n",
    "3. Modify the `get_customer_orders` function to include error handling.\n",
    "   - If the user enters an invalid number of orders (e.g., a negative value or a non-numeric value), display an error message and ask them to re-enter the number of orders.\n",
    "   - If the user enters an invalid product name (e.g., a product name that is not in the inventory), or that doesn't have stock available, display an error message and ask them to re-enter the product name. *Hint: you will need to pass inventory as a parameter*\n",
    "   - Use a try-except block to handle the error and continue prompting the user until a valid product name is entered.\n",
    "\n",
    "4. Test your code by running the program and deliberately entering invalid quantities and product names. Make sure the error handling mechanism works as expected.\n"
   ]
  },
  {
   "cell_type": "code",
   "execution_count": 9,
   "id": "16da8ace",
   "metadata": {},
   "outputs": [
    {
     "name": "stdout",
     "output_type": "stream",
     "text": [
      "Enter the price of the booke\n",
      "Invalid input: could not convert string to float: 'e'\n",
      "Please enter a valid price for the product.\n",
      "Total Price: 0\n"
     ]
    }
   ],
   "source": [
    "### 2\n",
    "\n",
    "customer_order = [\"book\", \"hat\"]\n",
    "\n",
    "def total_price(customer_order):\n",
    "    total_price = 0\n",
    "    try:\n",
    "        for product in customer_order:\n",
    "            \n",
    "            price = float(input(\"Enter the price of the \" + product))\n",
    "                # Check if the price is valid\n",
    "            if price < 0:\n",
    "                raise ValueError(\"Price cannot be negative.\")\n",
    "            \n",
    "            if price == 0:\n",
    "                break\n",
    "            \n",
    "            total_price += price\n",
    "\n",
    "    except ValueError as e:\n",
    "        print(\"Invalid input:\", e)\n",
    "        print(\"Please enter a valid price for the product.\")\n",
    "            \n",
    "    return print(\"Total Price:\", total_price)\n",
    "\n",
    "total_price(customer_order)"
   ]
  },
  {
   "cell_type": "code",
   "execution_count": 16,
   "id": "35b53b2b",
   "metadata": {},
   "outputs": [
    {
     "name": "stdout",
     "output_type": "stream",
     "text": [
      "Enter the price of the booke\n",
      "Invalid input: could not convert string to float: 'e'\n",
      "Please enter a valid price for the product.\n",
      "Total Price: 0\n"
     ]
    }
   ],
   "source": [
    "### 2\n",
    "\n",
    "customer_order = [\"book\", \"hat\"]\n",
    "\n",
    "def total_price(customer_order):\n",
    "    total_price = 0\n",
    "\n",
    "    try:\n",
    "        for product in customer_order:\n",
    "            \n",
    "            price = float(input(\"Enter the price of the \" + product))\n",
    "                # Check if the price is valid\n",
    "            if price < 0:\n",
    "                raise ValueError(\"Price cannot be negative.\")\n",
    "                price\n",
    "            if price == 0:\n",
    "                break\n",
    "            \n",
    "            total_price += price\n",
    "\n",
    "    except ValueError as e:\n",
    "        print(\"Invalid input:\", e)\n",
    "        print(\"Please enter a valid price for the product.\")\n",
    "            \n",
    "    return print(\"Total Price:\", total_price)\n",
    "\n",
    "total_price(customer_order)"
   ]
  },
  {
   "cell_type": "code",
   "execution_count": 20,
   "id": "7206ba3a",
   "metadata": {},
   "outputs": [
    {
     "ename": "SyntaxError",
     "evalue": "expected 'except' or 'finally' block (556529756.py, line 19)",
     "output_type": "error",
     "traceback": [
      "\u001b[0;36m  Cell \u001b[0;32mIn[20], line 19\u001b[0;36m\u001b[0m\n\u001b[0;31m    for product in range(order):\u001b[0m\n\u001b[0m    ^\u001b[0m\n\u001b[0;31mSyntaxError\u001b[0m\u001b[0;31m:\u001b[0m expected 'except' or 'finally' block\n"
     ]
    }
   ],
   "source": [
    "## 3\n",
    "\n",
    "\n",
    "customer_orders = set()\n",
    "\n",
    "def get_costumer_orders(inventory):\n",
    "    order = 0\n",
    "    valid_input = False\n",
    "    while not valid_input:\n",
    "        try:\n",
    "            order = int(input(\"How many products you would like to order?\"))\n",
    "            if order < 0:\n",
    "                raise ValueError(\"Invalid quantity! Please enter a non-negative value.\")\n",
    "                \n",
    "            else:\n",
    "                order =+ order\n",
    "                valid_input = True\n",
    "            \n",
    "    for product in range(order):\n",
    "        the_order = []\n",
    "        try:\n",
    "            for i in range(order):\n",
    "                attempt = input(\"what is the product you would like to order? \")\n",
    "                if attempt in inventory.keys:\n",
    "                    my_order.add(attempt)\n",
    "                else:\n",
    "                    raise ValueError(\"not in our inventory, sorry\")\n",
    "        except ValueError as e:\n",
    "            print(\"Invalid input:\", e)\n",
    "            print(\"Please enter a valid price for the product.\")\n",
    "    \n",
    "    \n",
    "    \n",
    "customer_orders = get_costumer_orders()\n",
    "\n",
    "customer_orders "
   ]
  },
  {
   "cell_type": "code",
   "execution_count": null,
   "id": "be2055b6",
   "metadata": {},
   "outputs": [],
   "source": []
  },
  {
   "cell_type": "code",
   "execution_count": null,
   "id": "d1c45775",
   "metadata": {},
   "outputs": [],
   "source": []
  },
  {
   "cell_type": "code",
   "execution_count": null,
   "id": "f1589144",
   "metadata": {},
   "outputs": [],
   "source": []
  },
  {
   "cell_type": "code",
   "execution_count": null,
   "id": "83455bd3",
   "metadata": {},
   "outputs": [],
   "source": []
  },
  {
   "cell_type": "code",
   "execution_count": null,
   "id": "1410bdd2",
   "metadata": {},
   "outputs": [],
   "source": []
  }
 ],
 "metadata": {
  "kernelspec": {
   "display_name": "Python 3 (ipykernel)",
   "language": "python",
   "name": "python3"
  },
  "language_info": {
   "codemirror_mode": {
    "name": "ipython",
    "version": 3
   },
   "file_extension": ".py",
   "mimetype": "text/x-python",
   "name": "python",
   "nbconvert_exporter": "python",
   "pygments_lexer": "ipython3",
   "version": "3.10.9"
  }
 },
 "nbformat": 4,
 "nbformat_minor": 5
}
